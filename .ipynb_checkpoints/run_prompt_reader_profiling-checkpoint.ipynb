{
 "cells": [
  {
   "cell_type": "code",
   "execution_count": 1,
   "metadata": {
    "tags": []
   },
   "outputs": [
    {
     "name": "stderr",
     "output_type": "stream",
     "text": [
      "/home/ss6928/.conda/envs/myenv/lib/python3.10/site-packages/tqdm/auto.py:21: TqdmWarning: IProgress not found. Please update jupyter and ipywidgets. See https://ipywidgets.readthedocs.io/en/stable/user_install.html\n",
      "  from .autonotebook import tqdm as notebook_tqdm\n"
     ]
    }
   ],
   "source": [
    "import os\n",
    "import sys\n",
    "import torch\n",
    "import collections\n",
    "from itertools import product\n",
    "\n",
    "import speechbrain as sb\n",
    "from torch.cuda.amp import autocast\n",
    "from hyperpyyaml import load_hyperpyyaml\n",
    "\n",
    "device = 'cuda'\n",
    "\n",
    "os.environ['TOKENIZERS_PARALLELISM'] = 'true'\n",
    "\n",
    "HPARAM_FILE = 'hparams/convtasnet_llama2_lora/run_llama2_lora.yaml'"
   ]
  },
  {
   "cell_type": "code",
   "execution_count": 2,
   "metadata": {
    "tags": []
   },
   "outputs": [
    {
     "name": "stdout",
     "output_type": "stream",
     "text": [
      "Initialized ShortTemplate: \n",
      "shuffle: True random: True\n",
      "Fetched 5 manifest files.\n",
      "Actions supported:  ['0', '1', 'D', 'U']  with volume_scale = 2\n",
      "Tasks supported:  ['HE', 'HVC', 'OVC', 'RHVC', 'SE', 'SR', 'S↑', 'S↓', 'TAE', 'TAR', 'TA↑', 'TA↓', 'TSE', 'TSR', 'TS↑', 'TS↓']\n",
      "Use GPT prompts with prob 1.0 and handcrafted prompts with prob 0.0.\n"
     ]
    },
    {
     "name": "stderr",
     "output_type": "stream",
     "text": [
      "Loading checkpoint shards: 100%|██████████| 2/2 [00:29<00:00, 14.58s/it]\n",
      "/home/ss6928/.conda/envs/myenv/lib/python3.10/site-packages/transformers/generation/configuration_utils.py:492: UserWarning: `do_sample` is set to `False`. However, `temperature` is set to `0.9` -- this flag is only used in sample-based generation modes. You should set `do_sample=True` or unset `temperature`. This was detected when initializing the generation config instance, which means the corresponding file may hold incorrect parameterization and should be fixed.\n",
      "  warnings.warn(\n",
      "/home/ss6928/.conda/envs/myenv/lib/python3.10/site-packages/transformers/generation/configuration_utils.py:497: UserWarning: `do_sample` is set to `False`. However, `top_p` is set to `0.6` -- this flag is only used in sample-based generation modes. You should set `do_sample=True` or unset `top_p`. This was detected when initializing the generation config instance, which means the corresponding file may hold incorrect parameterization and should be fixed.\n",
      "  warnings.warn(\n",
      "/home/ss6928/.conda/envs/myenv/lib/python3.10/site-packages/transformers/generation/configuration_utils.py:492: UserWarning: `do_sample` is set to `False`. However, `temperature` is set to `0.9` -- this flag is only used in sample-based generation modes. You should set `do_sample=True` or unset `temperature`.\n",
      "  warnings.warn(\n",
      "/home/ss6928/.conda/envs/myenv/lib/python3.10/site-packages/transformers/generation/configuration_utils.py:497: UserWarning: `do_sample` is set to `False`. However, `top_p` is set to `0.6` -- this flag is only used in sample-based generation modes. You should set `do_sample=True` or unset `top_p`.\n",
      "  warnings.warn(\n"
     ]
    },
    {
     "name": "stdout",
     "output_type": "stream",
     "text": [
      "None\n",
      "Load lora_llm to cuda.\n"
     ]
    }
   ],
   "source": [
    "argv = [HPARAM_FILE]\n",
    "argv += ['--save_folder', 'save/convtasnet_llama2_lora']\n",
    "\n",
    "# Zero-shot\n",
    "argv += ['--case', '2Speech2FSD']\n",
    "argv += ['--n_test', '5']\n",
    "\n",
    "hparam_file, run_opts, overrides = sb.parse_arguments(argv)\n",
    "\n",
    "# Init model\n",
    "with open(hparam_file) as f:\n",
    "    hparams = load_hyperpyyaml(f, overrides)\n",
    "    \n",
    "# Init data\n",
    "test_loader = torch.utils.data.DataLoader(\n",
    "    hparams['test_set'],\n",
    "    **hparams['test_loader_opts']\n",
    ")\n",
    "\n",
    "# Load model weights\n",
    "loaded = hparams['checkpointer'].recover_if_possible()\n",
    "print(loaded)\n",
    "\n",
    "# Put model on GPU\n",
    "for name, mod in hparams['modules'].items():\n",
    "    mod.to(device)\n",
    "    mod.eval()\n",
    "    print(f'Load {name} to {device}.')"
   ]
  },
  {
   "cell_type": "code",
   "execution_count": 3,
   "metadata": {
    "tags": []
   },
   "outputs": [],
   "source": [
    "hparams['tokenizer'].pad_token = '[PAD]'\n",
    "if hparams['llm_mix_prec']: # Cast LLM to bf16\n",
    "    hparams['llm'] = hparams['llm'].to(hparams['mix_dtype'])"
   ]
  },
  {
   "cell_type": "code",
   "execution_count": 4,
   "metadata": {
    "tags": []
   },
   "outputs": [],
   "source": [
    "def read_prompt(llm, tokenizer, prompt, device='cpu'):\n",
    "    # Tokenize\n",
    "    tokens = tokenizer(\n",
    "        prompt, padding=True, return_tensors='pt'\n",
    "    )['input_ids'].to(device)\n",
    "    \n",
    "    # Encode\n",
    "    words_embed = llm(\n",
    "        tokens, output_hidden_states=True\n",
    "    ).hidden_states[-1] # last layer\n",
    "\n",
    "    return words_embed[:, -1, :] # last or EOS token"
   ]
  },
  {
   "cell_type": "code",
   "execution_count": null,
   "metadata": {
    "tags": []
   },
   "outputs": [],
   "source": [
    "import torch\n",
    "import time\n",
    "\n",
    "read_prompt_times = []\n",
    "\n",
    "with torch.no_grad():\n",
    "    for data in test_loader:\n",
    "        mix, tar, prompt, acts = data[0:4]\n",
    "        mix = mix.to(device)\n",
    "\n",
    "        # Start timer before the function call\n",
    "        start_time = time.perf_counter()\n",
    "\n",
    "        prompt = \"Remove all people talking.\"\n",
    "        text_embed = read_prompt(hparams['lora_llm'].to('cpu'), hparams['tokenizer'], prompt)\n",
    "\n",
    "        # End timer after the function call\n",
    "        end_time = time.perf_counter()\n",
    "\n",
    "        # Calculate the duration and store it\n",
    "        duration = end_time - start_time\n",
    "        read_prompt_times.append(duration)\n",
    "\n",
    "        # Check that the embedding shape is as expected\n",
    "        assert text_embed.shape == (1, 4096), f\"Unexpected shape: {text_embed.shape}\"\n",
    "\n",
    "# Calculate average and standard deviation of the times\n",
    "average_time = sum(read_prompt_times) / len(read_prompt_times)\n",
    "std_dev_time = (sum((x - average_time) ** 2 for x in read_prompt_times) / len(read_prompt_times)) ** 0.5\n",
    "\n",
    "print(f\"Average processing time for read_prompt: {average_time:.4f} seconds\")\n",
    "print(f\"Standard deviation of processing time: {std_dev_time:.4f} seconds\")"
   ]
  },
  {
   "cell_type": "code",
   "execution_count": 15,
   "metadata": {
    "tags": []
   },
   "outputs": [
    {
     "name": "stdout",
     "output_type": "stream",
     "text": [
      "Tensor saved to embedding.pkl\n"
     ]
    }
   ],
   "source": [
    "import pickle\n",
    "import torch\n",
    "\n",
    "# Specify the path where you want to save the tensor\n",
    "file_path = 'embedding.pkl'\n",
    "\n",
    "# Save the tensor to a pickle file\n",
    "with open(file_path, 'wb') as file:\n",
    "    pickle.dump(text_embed, file)\n",
    "\n",
    "print(f\"Tensor saved to {file_path}\")\n"
   ]
  },
  {
   "cell_type": "code",
   "execution_count": null,
   "metadata": {},
   "outputs": [],
   "source": []
  }
 ],
 "metadata": {
  "kernelspec": {
   "display_name": "Python 3 (ipykernel)",
   "language": "python",
   "name": "python3"
  },
  "language_info": {
   "codemirror_mode": {
    "name": "ipython",
    "version": 3
   },
   "file_extension": ".py",
   "mimetype": "text/x-python",
   "name": "python",
   "nbconvert_exporter": "python",
   "pygments_lexer": "ipython3",
   "version": "3.10.13"
  }
 },
 "nbformat": 4,
 "nbformat_minor": 4
}
