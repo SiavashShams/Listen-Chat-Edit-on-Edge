{
 "cells": [
  {
   "cell_type": "code",
   "execution_count": 1,
   "id": "667ae615-d86b-42b2-9889-db1ad96e5910",
   "metadata": {
    "tags": []
   },
   "outputs": [],
   "source": [
    "from google.cloud import pubsub_v1"
   ]
  },
  {
   "cell_type": "markdown",
   "id": "c1902deb-aa80-4de8-a94d-73966adcdb93",
   "metadata": {},
   "source": [
    "## Subscribe to messages from Pub/Sub"
   ]
  },
  {
   "cell_type": "code",
   "execution_count": 56,
   "id": "ab21e7d7-e509-4206-bf47-8fb4008d8c0c",
   "metadata": {
    "tags": []
   },
   "outputs": [],
   "source": [
    "# configure project id and topic as setup in GCP\n",
    "project_id = \"eecse6992-yolov4-tiny-pkk2125\"\n",
    "topic_name = \"LCEE_prompt_publish-sub\""
   ]
  },
  {
   "cell_type": "code",
   "execution_count": 57,
   "id": "f75472d7-11fc-478f-a203-abf825db5d64",
   "metadata": {
    "tags": []
   },
   "outputs": [],
   "source": [
    "# configure subscription information - subscriber and path \n",
    "subscription_name = 'LCEE_prompt_publish-sub'\n",
    "subscriber = pubsub_v1.SubscriberClient()\n",
    "subscription_path = subscriber.subscription_path(project_id, subscription_name)"
   ]
  },
  {
   "cell_type": "code",
   "execution_count": 64,
   "id": "fc6a690f-28e3-470b-b44c-8919c23b2cd3",
   "metadata": {
    "tags": []
   },
   "outputs": [],
   "source": [
    "# buffer to store data loaded with sub\n",
    "data_buffer = []"
   ]
  },
  {
   "cell_type": "code",
   "execution_count": 66,
   "id": "8f9ec13a-3f5a-4969-94ea-4ca3ef878351",
   "metadata": {
    "tags": []
   },
   "outputs": [],
   "source": [
    "# setup callback - handling incoming messages from sub\n",
    "def callback(message):\n",
    "    data_buffer.append(message.data)\n",
    "    # print(message.data)\n",
    "    message.ack()"
   ]
  },
  {
   "cell_type": "markdown",
   "id": "5819aa6a-100a-4a97-a309-eee2a196352b",
   "metadata": {},
   "source": [
    "### Load messages with Sub"
   ]
  },
  {
   "cell_type": "code",
   "execution_count": 67,
   "id": "b7467a32-f889-4dd4-ba25-312cb4c840c8",
   "metadata": {
    "tags": []
   },
   "outputs": [
    {
     "data": {
      "text/plain": [
       "<StreamingPullFuture at 0x7f87c6c39cc0 state=pending>"
      ]
     },
     "execution_count": 67,
     "metadata": {},
     "output_type": "execute_result"
    }
   ],
   "source": [
    "subscriber.subscribe(subscription_path, callback=callback)"
   ]
  },
  {
   "cell_type": "code",
   "execution_count": 68,
   "id": "ab599611-d71a-466d-8869-485be0cb5e40",
   "metadata": {
    "tags": []
   },
   "outputs": [
    {
     "name": "stdout",
     "output_type": "stream",
     "text": [
      "[]\n",
      "[]\n",
      "[b'testing_prompt_1']\n",
      "[b'testing_prompt_1', b'testing_prompt_2']\n",
      "[b'testing_prompt_1', b'testing_prompt_2', b'testing_prompt_3']\n",
      "[b'testing_prompt_1', b'testing_prompt_2', b'testing_prompt_3']\n",
      "[b'testing_prompt_1', b'testing_prompt_2', b'testing_prompt_3', b'testing_prompt_5']\n",
      "[b'testing_prompt_1', b'testing_prompt_2', b'testing_prompt_3', b'testing_prompt_5']\n",
      "[b'testing_prompt_1', b'testing_prompt_2', b'testing_prompt_3', b'testing_prompt_5', b'testing_prompt_7']\n"
     ]
    },
    {
     "ename": "KeyboardInterrupt",
     "evalue": "",
     "output_type": "error",
     "traceback": [
      "\u001b[0;31m---------------------------------------------------------------------------\u001b[0m",
      "\u001b[0;31mKeyboardInterrupt\u001b[0m                         Traceback (most recent call last)",
      "Cell \u001b[0;32mIn[68], line 3\u001b[0m\n\u001b[1;32m      1\u001b[0m \u001b[38;5;28;01mwhile\u001b[39;00m(\u001b[38;5;28;01mTrue\u001b[39;00m):\n\u001b[1;32m      2\u001b[0m     \u001b[38;5;28mprint\u001b[39m(data_buffer)\n\u001b[0;32m----> 3\u001b[0m     \u001b[43mtime\u001b[49m\u001b[38;5;241;43m.\u001b[39;49m\u001b[43msleep\u001b[49m\u001b[43m(\u001b[49m\u001b[38;5;241;43m5\u001b[39;49m\u001b[43m)\u001b[49m\n",
      "\u001b[0;31mKeyboardInterrupt\u001b[0m: "
     ]
    }
   ],
   "source": [
    "while(True):\n",
    "    print(data_buffer)\n",
    "    time.sleep(5)"
   ]
  },
  {
   "cell_type": "code",
   "execution_count": 11,
   "id": "edcc6da4-8b51-46cd-87d1-05b6cefc30cc",
   "metadata": {
    "tags": []
   },
   "outputs": [],
   "source": [
    "import numpy as np"
   ]
  },
  {
   "cell_type": "code",
   "execution_count": 8,
   "id": "ff024e53-dd4e-4653-8194-aaba66078e80",
   "metadata": {
    "tags": []
   },
   "outputs": [],
   "source": [
    "def loadbytes(bytestring):\n",
    "    return np.frombuffer(bytestring)"
   ]
  },
  {
   "cell_type": "code",
   "execution_count": 21,
   "id": "256a40b7-fa15-40b1-8094-780eee4289c5",
   "metadata": {
    "tags": []
   },
   "outputs": [],
   "source": [
    "import numpy as np"
   ]
  },
  {
   "cell_type": "code",
   "execution_count": 49,
   "id": "e268f6ac-3a3a-416a-8367-57d7ab95785a",
   "metadata": {
    "tags": []
   },
   "outputs": [
    {
     "name": "stdout",
     "output_type": "stream",
     "text": [
      "(2048,)\n"
     ]
    }
   ],
   "source": [
    "print(loadbytes(data_buffer[0]).shape)"
   ]
  },
  {
   "cell_type": "code",
   "execution_count": 51,
   "id": "98014a7a-a27f-49fc-be9e-a0c43e30ec23",
   "metadata": {
    "tags": []
   },
   "outputs": [],
   "source": [
    "import time"
   ]
  }
 ],
 "metadata": {
  "kernelspec": {
   "display_name": "Python 3 (Local)",
   "language": "python",
   "name": "python3"
  },
  "language_info": {
   "codemirror_mode": {
    "name": "ipython",
    "version": 3
   },
   "file_extension": ".py",
   "mimetype": "text/x-python",
   "name": "python",
   "nbconvert_exporter": "python",
   "pygments_lexer": "ipython3",
   "version": "3.10.13"
  }
 },
 "nbformat": 4,
 "nbformat_minor": 5
}
