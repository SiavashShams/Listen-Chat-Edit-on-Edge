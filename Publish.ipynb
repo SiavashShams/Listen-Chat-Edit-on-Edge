{
 "cells": [
  {
   "cell_type": "code",
   "execution_count": 4,
   "id": "48c0ec98-cb9a-4d18-abf3-876e63946f6c",
   "metadata": {},
   "outputs": [],
   "source": [
    "from google.cloud import pubsub_v1"
   ]
  },
  {
   "cell_type": "markdown",
   "id": "ce757b9b-af23-4788-9d37-6130b7d448cc",
   "metadata": {},
   "source": [
    "## Publish messages to a Pub/Sub topic"
   ]
  },
  {
   "cell_type": "code",
   "execution_count": 15,
   "id": "aaaeca93-894f-4c42-8b8e-9af9f2e6cd76",
   "metadata": {},
   "outputs": [],
   "source": [
    "# configure project id and topic name as set in GCP\n",
    "project_id = \"eecse6992-yolov4-tiny-pkk2125\"\n",
    "topic_name = \"LCCE-inference\""
   ]
  },
  {
   "cell_type": "code",
   "execution_count": 16,
   "id": "944b21e4-437a-4482-b1cc-f7377b5efcac",
   "metadata": {},
   "outputs": [],
   "source": [
    "# configure publisher and optic path\n",
    "publisher = pubsub_v1.PublisherClient()\n",
    "topic_path = publisher.topic_path(project_id, topic_name)"
   ]
  },
  {
   "cell_type": "markdown",
   "id": "ce2aff24-d508-4575-9328-94aab39fe6f6",
   "metadata": {},
   "source": [
    "### Publish messages"
   ]
  },
  {
   "cell_type": "code",
   "execution_count": 14,
   "id": "bb71cdac-9e2e-462c-a6ef-294fd8840c0c",
   "metadata": {},
   "outputs": [
    {
     "name": "stdout",
     "output_type": "stream",
     "text": [
      "9484647621448969\n"
     ]
    }
   ],
   "source": [
    "data = b\"This is a new new newww test message.\"\n",
    "future = publisher.publish(topic_path, data)\n",
    "print(future.result())"
   ]
  }
 ],
 "metadata": {
  "kernelspec": {
   "display_name": "env",
   "language": "python",
   "name": "env"
  },
  "language_info": {
   "codemirror_mode": {
    "name": "ipython",
    "version": 3
   },
   "file_extension": ".py",
   "mimetype": "text/x-python",
   "name": "python",
   "nbconvert_exporter": "python",
   "pygments_lexer": "ipython3",
   "version": "3.10.5"
  }
 },
 "nbformat": 4,
 "nbformat_minor": 5
}
