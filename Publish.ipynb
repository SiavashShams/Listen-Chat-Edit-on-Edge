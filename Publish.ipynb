{
 "cells": [
  {
   "cell_type": "code",
   "execution_count": 4,
   "id": "48c0ec98-cb9a-4d18-abf3-876e63946f6c",
   "metadata": {},
   "outputs": [],
   "source": [
    "from google.cloud import pubsub_v1"
   ]
  },
  {
   "cell_type": "code",
   "execution_count": 9,
   "id": "aaaeca93-894f-4c42-8b8e-9af9f2e6cd76",
   "metadata": {},
   "outputs": [],
   "source": [
    "project_id = \"eecse6992-yolov4-tiny-pkk2125\"\n",
    "topic_name = \"LCCE-inference\""
   ]
  },
  {
   "cell_type": "code",
   "execution_count": 10,
   "id": "944b21e4-437a-4482-b1cc-f7377b5efcac",
   "metadata": {},
   "outputs": [],
   "source": [
    "publisher = pubsub_v1.PublisherClient()\n",
    "topic_path = publisher.topic_path(project_id, topic_name)"
   ]
  },
  {
   "cell_type": "code",
   "execution_count": 11,
   "id": "67161fe4-0015-4623-bf4e-f3e01d07a07c",
   "metadata": {},
   "outputs": [
    {
     "data": {
      "text/plain": [
       "'projects/eecse6992-yolov4-tiny-pkk2125/topics/LCCE-inference'"
      ]
     },
     "execution_count": 11,
     "metadata": {},
     "output_type": "execute_result"
    }
   ],
   "source": [
    "topic_path"
   ]
  },
  {
   "cell_type": "code",
   "execution_count": 13,
   "id": "bb71cdac-9e2e-462c-a6ef-294fd8840c0c",
   "metadata": {},
   "outputs": [
    {
     "name": "stdout",
     "output_type": "stream",
     "text": [
      "9484580972499203\n"
     ]
    }
   ],
   "source": [
    "data = b\"This is a new new newww test message.\"\n",
    "future = publisher.publish(topic_path, data)\n",
    "print(future.result())"
   ]
  }
 ],
 "metadata": {
  "kernelspec": {
   "display_name": "env",
   "language": "python",
   "name": "env"
  },
  "language_info": {
   "codemirror_mode": {
    "name": "ipython",
    "version": 3
   },
   "file_extension": ".py",
   "mimetype": "text/x-python",
   "name": "python",
   "nbconvert_exporter": "python",
   "pygments_lexer": "ipython3",
   "version": "3.10.5"
  }
 },
 "nbformat": 4,
 "nbformat_minor": 5
}
