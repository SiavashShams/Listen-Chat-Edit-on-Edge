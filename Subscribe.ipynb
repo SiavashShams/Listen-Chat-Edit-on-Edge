{
 "cells": [
  {
   "cell_type": "code",
   "execution_count": 1,
   "id": "667ae615-d86b-42b2-9889-db1ad96e5910",
   "metadata": {},
   "outputs": [],
   "source": [
    "from google.cloud import pubsub_v1"
   ]
  },
  {
   "cell_type": "code",
   "execution_count": 5,
   "id": "ab21e7d7-e509-4206-bf47-8fb4008d8c0c",
   "metadata": {},
   "outputs": [],
   "source": [
    "project_id = \"eecse6992-yolov4-tiny-pkk2125\"\n",
    "topic_name = \"LCCE-inference\""
   ]
  },
  {
   "cell_type": "code",
   "execution_count": 18,
   "id": "f75472d7-11fc-478f-a203-abf825db5d64",
   "metadata": {},
   "outputs": [],
   "source": [
    "subscription_name = 'LCCE-inference-sub'\n",
    "subscriber = pubsub_v1.SubscriberClient()\n",
    "subscription_path = subscriber.subscription_path(project_id, subscription_name)"
   ]
  },
  {
   "cell_type": "code",
   "execution_count": 19,
   "id": "fc6a690f-28e3-470b-b44c-8919c23b2cd3",
   "metadata": {},
   "outputs": [],
   "source": [
    "data_buffer = []"
   ]
  },
  {
   "cell_type": "code",
   "execution_count": 20,
   "id": "8f9ec13a-3f5a-4969-94ea-4ca3ef878351",
   "metadata": {},
   "outputs": [],
   "source": [
    "def callback(message):\n",
    "    data_buffer.append(message.data)\n",
    "    # print(message.data)\n",
    "    message.ack()"
   ]
  },
  {
   "cell_type": "code",
   "execution_count": 21,
   "id": "b7467a32-f889-4dd4-ba25-312cb4c840c8",
   "metadata": {},
   "outputs": [
    {
     "data": {
      "text/plain": [
       "<StreamingPullFuture at 0x1e61e9b85b0 state=pending>"
      ]
     },
     "execution_count": 21,
     "metadata": {},
     "output_type": "execute_result"
    }
   ],
   "source": [
    "subscriber.subscribe(subscription_path, callback=callback)"
   ]
  },
  {
   "cell_type": "code",
   "execution_count": 60,
   "id": "e268f6ac-3a3a-416a-8367-57d7ab95785a",
   "metadata": {},
   "outputs": [
    {
     "name": "stdout",
     "output_type": "stream",
     "text": [
      "[b'This is a new new test message.', b'This is a new new test message.', b'This is a new new newww test message.']\n"
     ]
    }
   ],
   "source": [
    "print(data_buffer)"
   ]
  }
 ],
 "metadata": {
  "kernelspec": {
   "display_name": "env",
   "language": "python",
   "name": "env"
  },
  "language_info": {
   "codemirror_mode": {
    "name": "ipython",
    "version": 3
   },
   "file_extension": ".py",
   "mimetype": "text/x-python",
   "name": "python",
   "nbconvert_exporter": "python",
   "pygments_lexer": "ipython3",
   "version": "3.10.5"
  }
 },
 "nbformat": 4,
 "nbformat_minor": 5
}
