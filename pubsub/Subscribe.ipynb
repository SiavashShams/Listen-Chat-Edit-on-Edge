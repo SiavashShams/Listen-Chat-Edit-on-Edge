{
 "cells": [
  {
   "cell_type": "code",
   "execution_count": 70,
   "id": "667ae615-d86b-42b2-9889-db1ad96e5910",
   "metadata": {
    "tags": []
   },
   "outputs": [],
   "source": [
    "from google.cloud import pubsub_v1\n",
    "import time\n",
    "import numpy as np"
   ]
  },
  {
   "cell_type": "markdown",
   "id": "c1902deb-aa80-4de8-a94d-73966adcdb93",
   "metadata": {},
   "source": [
    "## Subscribe to messages from Pub/Sub"
   ]
  },
  {
   "cell_type": "code",
   "execution_count": 71,
   "id": "ab21e7d7-e509-4206-bf47-8fb4008d8c0c",
   "metadata": {
    "tags": []
   },
   "outputs": [],
   "source": [
    "# configure project id and topic as setup in GCP\n",
    "project_id = \"eecse6992-yolov4-tiny-pkk2125\"\n",
    "topic_name = \"LCEE_prompt_publish-sub\""
   ]
  },
  {
   "cell_type": "code",
   "execution_count": 72,
   "id": "f75472d7-11fc-478f-a203-abf825db5d64",
   "metadata": {
    "tags": []
   },
   "outputs": [],
   "source": [
    "# configure subscription information - subscriber and path \n",
    "subscription_name = 'LCEE_prompt_publish-sub'\n",
    "subscriber = pubsub_v1.SubscriberClient()\n",
    "subscription_path = subscriber.subscription_path(project_id, subscription_name)"
   ]
  },
  {
   "cell_type": "code",
   "execution_count": 73,
   "id": "fc6a690f-28e3-470b-b44c-8919c23b2cd3",
   "metadata": {
    "tags": []
   },
   "outputs": [],
   "source": [
    "# buffer to store data loaded with sub\n",
    "data_buffer = []\n",
    "llm_state = 0"
   ]
  },
  {
   "cell_type": "code",
   "execution_count": 66,
   "id": "8f9ec13a-3f5a-4969-94ea-4ca3ef878351",
   "metadata": {
    "tags": []
   },
   "outputs": [],
   "source": [
    "# setup callback - handling incoming messages from sub=llm_state\n",
    "def callback(message, llm_state=llm_state):\n",
    "    data_buffer.append(message.data)\n",
    "    # print(message.data)\n",
    "    while(llm_state=0):\n",
    "        pass\n",
    "    llm_state = 0\n",
    "    \n",
    "    message.ack()"
   ]
  },
  {
   "cell_type": "markdown",
   "id": "5819aa6a-100a-4a97-a309-eee2a196352b",
   "metadata": {},
   "source": [
    "### Load messages with Sub"
   ]
  },
  {
   "cell_type": "code",
   "execution_count": 67,
   "id": "b7467a32-f889-4dd4-ba25-312cb4c840c8",
   "metadata": {
    "tags": []
   },
   "outputs": [
    {
     "data": {
      "text/plain": [
       "<StreamingPullFuture at 0x7f87c6c39cc0 state=pending>"
      ]
     },
     "execution_count": 67,
     "metadata": {},
     "output_type": "execute_result"
    }
   ],
   "source": [
    "subscriber.subscribe(subscription_path, callback=callback)"
   ]
  },
  {
   "cell_type": "code",
   "execution_count": 11,
   "id": "edcc6da4-8b51-46cd-87d1-05b6cefc30cc",
   "metadata": {
    "tags": []
   },
   "outputs": [],
   "source": [
    "import numpy as np"
   ]
  },
  {
   "cell_type": "code",
   "execution_count": 8,
   "id": "ff024e53-dd4e-4653-8194-aaba66078e80",
   "metadata": {
    "tags": []
   },
   "outputs": [],
   "source": [
    "def loadbytes(bytestring):\n",
    "    return np.frombuffer(bytestring)"
   ]
  },
  {
   "cell_type": "code",
   "execution_count": 21,
   "id": "256a40b7-fa15-40b1-8094-780eee4289c5",
   "metadata": {
    "tags": []
   },
   "outputs": [],
   "source": [
    "import numpy as np"
   ]
  },
  {
   "cell_type": "code",
   "execution_count": 49,
   "id": "e268f6ac-3a3a-416a-8367-57d7ab95785a",
   "metadata": {
    "tags": []
   },
   "outputs": [
    {
     "name": "stdout",
     "output_type": "stream",
     "text": [
      "(2048,)\n"
     ]
    }
   ],
   "source": [
    "print(loadbytes(data_buffer[0]).shape)"
   ]
  },
  {
   "cell_type": "code",
   "execution_count": 51,
   "id": "98014a7a-a27f-49fc-be9e-a0c43e30ec23",
   "metadata": {
    "tags": []
   },
   "outputs": [],
   "source": [
    "import time"
   ]
  }
 ],
 "metadata": {
  "kernelspec": {
   "display_name": "Python 3 (Local)",
   "language": "python",
   "name": "python3"
  },
  "language_info": {
   "codemirror_mode": {
    "name": "ipython",
    "version": 3
   },
   "file_extension": ".py",
   "mimetype": "text/x-python",
   "name": "python",
   "nbconvert_exporter": "python",
   "pygments_lexer": "ipython3",
   "version": "3.10.13"
  }
 },
 "nbformat": 4,
 "nbformat_minor": 5
}
