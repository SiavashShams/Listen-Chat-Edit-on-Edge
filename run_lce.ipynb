{
 "cells": [
  {
   "cell_type": "code",
   "execution_count": 1,
   "id": "54bf2c17",
   "metadata": {},
   "outputs": [
    {
     "name": "stdout",
     "output_type": "stream",
     "text": [
      "Use FiLM at (every) block.\n",
      "Initialized a FiLM before1x1.\n",
      "Initialized a FiLM before1x1.\n",
      "Initialized a FiLM before1x1.\n"
     ]
    },
    {
     "data": {
      "text/plain": [
       "<All keys matched successfully>"
      ]
     },
     "execution_count": 1,
     "metadata": {},
     "output_type": "execute_result"
    }
   ],
   "source": [
    "import torch\n",
    "import time\n",
    "from modules.convtasnet_ext_nosb2 import MaskNet, Encoder, Decoder\n",
    "from llm_cloud import write_prompt_to_file, send_file_to_server, fetch_embeddings_file, read_embeddings_from_pickle\n",
    "import scipy.io.wavfile as wav\n",
    "import numpy as np\n",
    "\n",
    "\n",
    "# Initialize the components\n",
    "encoder = Encoder(kernel_size=16, out_channels=512)  # Specify appropriate parameters\n",
    "masknet = MaskNet(N=512, B=128, H=512, P=3, X=8, R=3, C=1, norm_type='gLN',\n",
    "                  causal=False, mask_nonlinear=\"relu\", cond_dim=4096,\n",
    "                  film_mode='block', film_n_layer=2, film_scale=True,\n",
    "                  film_where='before1x1')\n",
    "decoder = Decoder(in_channels = 512,\n",
    "    out_channels = 1,\n",
    "    kernel_size=16,\n",
    "    stride = 8,\n",
    "    bias = False)  # Specify appropriate parameters\n",
    "\n",
    "\n",
    "\n",
    "# Dummy function to generate text embeddings\n",
    "device = 'cuda'\n",
    "encoder = encoder.to(device)\n",
    "masknet = masknet.to(device)\n",
    "decoder = decoder.to(device)\n",
    "\n",
    "encoder.load_state_dict(torch.load('save/encoder_model_weights.pth', map_location=device))\n",
    "masknet.load_state_dict(torch.load('save/masknet_model_weights.pth', map_location=device))\n",
    "decoder.load_state_dict(torch.load('save/decoder_model_weights.pth', map_location=device))"
   ]
  },
  {
   "cell_type": "code",
   "execution_count": 2,
   "id": "936207e2",
   "metadata": {},
   "outputs": [
    {
     "name": "stdout",
     "output_type": "stream",
     "text": [
      "Prompt has been sent to the server.\n",
      "Waiting for the server to process the prompt...\n",
      "Edited audio saved as 'edited_mix.wav'.\n"
     ]
    }
   ],
   "source": [
    "def edit_sound(mix, text_embed):\n",
    "    with torch.no_grad():\n",
    "        # Ensure mix is on the correct device\n",
    "        mix = mix.to(device)\n",
    "\n",
    "        # Encoding speech\n",
    "        mix_h = encoder(mix)\n",
    "\n",
    "        # Extraction\n",
    "        est_mask = masknet(mix_h, text_embed).squeeze(0)\n",
    "        est_tar_h = mix_h * est_mask  # (B, F, T)\n",
    "\n",
    "        # Decoding\n",
    "        est_tar = decoder(est_tar_h)\n",
    "\n",
    "        # T changed after conv1d in encoder, fix it here\n",
    "        T_origin = mix.size(1)\n",
    "        T_ext = est_tar.size(1)\n",
    "\n",
    "        if T_origin > T_ext:\n",
    "            est_tar = torch.nn.functional.pad(est_tar, (0, T_origin - T_ext))\n",
    "        else:\n",
    "            est_tar = est_tar[:, :T_origin]\n",
    "\n",
    "        return est_tar\n",
    "\n",
    "# Testing the function\n",
    "if __name__ == \"__main__\":\n",
    "    # Simulating a single audio sample\n",
    "    sample_rate, mix = wav.read('mix.wav')\n",
    "    mix = torch.from_numpy(mix.astype('float32')).unsqueeze(0) / 32768.0  # Normalize the waveform\n",
    "    mix = mix.to(device)\n",
    "    \n",
    "    # Prompt handling\n",
    "    prompt = \"Remove all people talking.\"\n",
    "    local_input_path = write_prompt_to_file(prompt)\n",
    "    server = \"axon.rc.zi.columbia.edu\"\n",
    "    remote_input_path = \"/home/ss6928/LCE_inference/input_file.txt\"\n",
    "    send_file_to_server(local_input_path, remote_input_path, server)\n",
    "    print(\"Prompt has been sent to the server.\")\n",
    "    \n",
    "    print(\"Waiting for the server to process the prompt...\")\n",
    "    time.sleep(15)  \n",
    "\n",
    "    remote_output_path = \"/home/ss6928/LCE_inference/embedding.pkl\"\n",
    "    local_output_path = \"embedding.pkl\"\n",
    "    fetch_embeddings_file(server, remote_output_path, local_output_path)\n",
    "    embeddings = read_embeddings_from_pickle(local_output_path)\n",
    "    \n",
    "    # Sound editing using the embeddings\n",
    "    if embeddings:\n",
    "        est_tar = edit_sound(mix, embeddings[0])\n",
    "        est_tar = est_tar.squeeze().cpu().numpy() * 32768  # Rescale to int16 range\n",
    "        est_tar = est_tar.astype('int16')  # Convert to int16\n",
    "        wav.write('edited_mix.wav', sample_rate, est_tar)  \n",
    "        print(\"Edited audio saved as 'edited_mix.wav'.\")\n",
    "    else:\n",
    "        print(\"No embeddings found.\")"
   ]
  },
  {
   "cell_type": "code",
   "execution_count": null,
   "id": "8f339843",
   "metadata": {},
   "outputs": [],
   "source": []
  }
 ],
 "metadata": {
  "kernelspec": {
   "display_name": "Python 3",
   "language": "python",
   "name": "python3"
  },
  "language_info": {
   "codemirror_mode": {
    "name": "ipython",
    "version": 3
   },
   "file_extension": ".py",
   "mimetype": "text/x-python",
   "name": "python",
   "nbconvert_exporter": "python",
   "pygments_lexer": "ipython3",
   "version": "3.6.9"
  }
 },
 "nbformat": 4,
 "nbformat_minor": 5
}
