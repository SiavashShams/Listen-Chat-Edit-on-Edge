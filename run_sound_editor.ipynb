{
 "cells": [
  {
   "cell_type": "code",
   "execution_count": 1,
   "metadata": {
    "tags": []
   },
   "outputs": [
    {
     "name": "stderr",
     "output_type": "stream",
     "text": [
      "/home/ss6928/.conda/envs/myenv/lib/python3.10/site-packages/tqdm/auto.py:21: TqdmWarning: IProgress not found. Please update jupyter and ipywidgets. See https://ipywidgets.readthedocs.io/en/stable/user_install.html\n",
      "  from .autonotebook import tqdm as notebook_tqdm\n"
     ]
    }
   ],
   "source": [
    "import os\n",
    "import sys\n",
    "import torch\n",
    "import collections\n",
    "from itertools import product\n",
    "\n",
    "import speechbrain as sb\n",
    "from torch.cuda.amp import autocast\n",
    "from hyperpyyaml import load_hyperpyyaml\n",
    "\n",
    "device = 'cuda'\n",
    "\n",
    "os.environ['TOKENIZERS_PARALLELISM'] = 'true'\n",
    "\n",
    "HPARAM_FILE = 'hparams/convtasnet_llama2_lora/run_convtasnet.yaml'"
   ]
  },
  {
   "cell_type": "code",
   "execution_count": 2,
   "metadata": {
    "tags": []
   },
   "outputs": [
    {
     "name": "stdout",
     "output_type": "stream",
     "text": [
      "Initialized ShortTemplate: \n",
      "shuffle: True random: True\n",
      "Fetched 5 manifest files.\n",
      "Actions supported:  ['0', '1', 'D', 'U']  with volume_scale = 2\n",
      "Tasks supported:  ['HE', 'HVC', 'OVC', 'RHVC', 'SE', 'SR', 'S↑', 'S↓', 'TAE', 'TAR', 'TA↑', 'TA↓', 'TSE', 'TSR', 'TS↑', 'TS↓']\n",
      "Use GPT prompts with prob 1.0 and handcrafted prompts with prob 0.0.\n",
      "Use FiLM at (every) block.\n",
      "Initialized a FiLM before1x1.\n",
      "Initialized a FiLM before1x1.\n",
      "Initialized a FiLM before1x1.\n",
      "Checkpoint(path=PosixPath('save/convtasnet_llama2_lora/CKPT+2023-12-10+01-02-35+00'), meta={'end-of-epoch': True, 'loss': tensor(-7.8143, device='cuda:0'), 'nan_ratio': 0.0, 'snr': tensor(11.7403, device='cuda:0'), 'snri': tensor(7.8143, device='cuda:0'), 'unixtime': 1702188155.5799286}, paramfiles={'decoder': PosixPath('save/convtasnet_llama2_lora/CKPT+2023-12-10+01-02-35+00/decoder.ckpt'), 'masknet': PosixPath('save/convtasnet_llama2_lora/CKPT+2023-12-10+01-02-35+00/masknet.ckpt'), 'encoder': PosixPath('save/convtasnet_llama2_lora/CKPT+2023-12-10+01-02-35+00/encoder.ckpt'), 'lora_llm': PosixPath('save/convtasnet_llama2_lora/CKPT+2023-12-10+01-02-35+00/lora_llm.ckpt')})\n",
      "Load encoder to cuda.\n",
      "Load decoder to cuda.\n",
      "Load masknet to cuda.\n"
     ]
    }
   ],
   "source": [
    "argv = [HPARAM_FILE]\n",
    "argv += ['--save_folder', 'save/convtasnet_llama2_lora']\n",
    "\n",
    "# Zero-shot\n",
    "argv += ['--case', '2Speech2FSD']\n",
    "argv += ['--n_test', '5']\n",
    "\n",
    "hparam_file, run_opts, overrides = sb.parse_arguments(argv)\n",
    "\n",
    "# Init model\n",
    "with open(hparam_file) as f:\n",
    "    hparams = load_hyperpyyaml(f, overrides)\n",
    "    \n",
    "# Init data\n",
    "test_loader = torch.utils.data.DataLoader(\n",
    "    hparams['test_set'],\n",
    "    **hparams['test_loader_opts']\n",
    ")\n",
    "\n",
    "# Load model weights\n",
    "loaded = hparams['checkpointer'].recover_if_possible()\n",
    "print(loaded)\n",
    "\n",
    "# Put model on GPU\n",
    "for name, mod in hparams['modules'].items():\n",
    "    mod.to(device)\n",
    "    mod.eval()\n",
    "    print(f'Load {name} to {device}.')"
   ]
  },
  {
   "cell_type": "code",
   "execution_count": 3,
   "metadata": {
    "tags": []
   },
   "outputs": [],
   "source": [
    "def edit_sound(editor, mix, text_embed):\n",
    "        \n",
    "    # Encoding speech\n",
    "    mix_h = editor['encoder'](mix)\n",
    "\n",
    "    # Extraction\n",
    "    est_mask = editor['masknet'](mix_h, text_embed).squeeze(0)\n",
    "    est_tar_h = mix_h * est_mask # (B, F, T)\n",
    "\n",
    "    # Decoding\n",
    "    est_tar = editor['decoder'](est_tar_h)\n",
    "\n",
    "    # T changed after conv1d in encoder, fix it here\n",
    "    T_origin = mix.size(1)\n",
    "    T_ext = est_tar.size(1)\n",
    "\n",
    "    if T_origin > T_ext:\n",
    "        est_tar = torch.functional.pad(est_tar, (0, T_origin - T_ext))\n",
    "    else:\n",
    "        est_tar = est_tar[:, :T_origin]\n",
    "\n",
    "    return est_tar\n",
    "\n",
    "def dummy_read_prompt(prompt, device='cuda'):\n",
    "    B = len(prompt) # batch size\n",
    "    return torch.rand((B, hparams['txt_emb_dim']), device=device)"
   ]
  },
  {
   "cell_type": "code",
   "execution_count": 4,
   "metadata": {
    "tags": []
   },
   "outputs": [],
   "source": [
    "with torch.no_grad():\n",
    "    for _ in range(10): # for data in test_loader:\n",
    "        # mix, tar, prompt, acts = data[0:4]\n",
    "        mix = torch.rand(1, 80000).cuda()\n",
    "        prompt = ('This is a placeholder.', )\n",
    "        mix = mix.to(device)\n",
    "        text_embed = dummy_read_prompt(prompt)\n",
    "        est_tar = edit_sound(hparams['modules'], mix, text_embed)\n",
    "        assert est_tar.shape == (1, 80000)"
   ]
  },
  {
   "cell_type": "code",
   "execution_count": 5,
   "metadata": {
    "tags": []
   },
   "outputs": [
    {
     "data": {
      "text/plain": [
       "torch.Size([1, 80000])"
      ]
     },
     "execution_count": 5,
     "metadata": {},
     "output_type": "execute_result"
    }
   ],
   "source": [
    "est_tar.shape"
   ]
  },
  {
   "cell_type": "code",
   "execution_count": null,
   "metadata": {},
   "outputs": [],
   "source": []
  }
 ],
 "metadata": {
  "kernelspec": {
   "display_name": "Python 3 (ipykernel)",
   "language": "python",
   "name": "python3"
  },
  "language_info": {
   "codemirror_mode": {
    "name": "ipython",
    "version": 3
   },
   "file_extension": ".py",
   "mimetype": "text/x-python",
   "name": "python",
   "nbconvert_exporter": "python",
   "pygments_lexer": "ipython3",
   "version": "3.10.13"
  }
 },
 "nbformat": 4,
 "nbformat_minor": 4
}
